{
 "cells": [
  {
   "cell_type": "markdown",
   "metadata": {},
   "source": [
    "# Lab | Intro to Probability"
   ]
  },
  {
   "cell_type": "markdown",
   "metadata": {},
   "source": [
    "**Objective**\n",
    "\n",
    "Welcome to this Intro to Probability lab, where we explore decision-making scenarios through the lens of probability and strategic analysis. In the business world, making informed decisions is crucial, especially when faced with uncertainties. This lab focuses on scenarios where probabilistic outcomes play a significant role in shaping strategies and outcomes. Students will engage in exercises that require assessing and choosing optimal paths based on data-driven insights. The goal is to enhance your skills by applying probability concepts to solve real-world problems."
   ]
  },
  {
   "cell_type": "markdown",
   "metadata": {},
   "source": [
    "**Challenge 1**"
   ]
  },
  {
   "cell_type": "markdown",
   "metadata": {},
   "source": [
    "#### Ironhack Airlines \n",
    "\n",
    "Often Airlines sell more tickets than they have seats available, this is called overbooking. Consider the following:\n",
    "- A plane has 450 seats. \n",
    "- Based on historical data we conclude that each individual passenger has a 3% chance of missing it's flight. \n",
    "\n",
    "If the Ironhack Airlines routinely sells 460 tickets, what is the chance that they have a seats for all passenger?"
   ]
  },
  {
   "cell_type": "code",
   "execution_count": 1,
   "metadata": {},
   "outputs": [
    {
     "data": {
      "text/plain": [
       "0.8800595630623225"
      ]
     },
     "execution_count": 1,
     "metadata": {},
     "output_type": "execute_result"
    }
   ],
   "source": [
    "import numpy as np\n",
    "import scipy.stats as stats\n",
    "\n",
    "# Parameters\n",
    "n = 460  # total tickets sold\n",
    "p = 0.97  # probability of showing up\n",
    "q = 1 - p  # probability of missing the flight\n",
    "k = 450  # number of seats\n",
    "\n",
    "# Mean and standard deviation for the binomial distribution\n",
    "mean = n * p\n",
    "std_dev = np.sqrt(n * p * q)\n",
    "\n",
    "# Using the normal approximation to find P(X <= 450)\n",
    "# Z-score calculation\n",
    "z = (k + 0.5 - mean) / std_dev  # continuity correction\n",
    "\n",
    "# Finding the probability\n",
    "probability = stats.norm.cdf(z)\n",
    "probability\n"
   ]
  },
  {
   "cell_type": "code",
   "execution_count": 2,
   "metadata": {},
   "outputs": [],
   "source": [
    "# La probabilidad de que Ironhack Airlines tenga suficientes asientos para todos los pasajeros al vender 460 boletos es aproximadamente del 88.01%.\n",
    "# Esto significa que hay un 88% de probabilidad de que 450 o menos pasajeros se presenten para el vuelo, lo que permite a la aerolínea acomodar a todos los pasajeros sin ningún problema."
   ]
  },
  {
   "cell_type": "markdown",
   "metadata": {},
   "source": [
    "**Challenge 2**"
   ]
  },
  {
   "cell_type": "markdown",
   "metadata": {},
   "source": [
    "#### Ironhack Call Center "
   ]
  },
  {
   "cell_type": "markdown",
   "metadata": {},
   "source": [
    "Suppose a customer service representative at a call center is handling customer complaints. Consider the following:\n",
    "- The probability of successfully resolving a customer complaint on the first attempt is 0.3. \n",
    "\n",
    "\n",
    "What is the probability that the representative needs to make at least three attempts before successfully resolving a customer complaint?"
   ]
  },
  {
   "cell_type": "code",
   "execution_count": 1,
   "metadata": {},
   "outputs": [
    {
     "name": "stdout",
     "output_type": "stream",
     "text": [
      "La probabilidad de necesitar al menos tres intentos es: 0.15 o 14.70%\n"
     ]
    }
   ],
   "source": [
    "# Probabilidades\n",
    "p = 0.3  # Probabilidad de éxito\n",
    "q = 1 - p  # Probabilidad de fallo\n",
    "\n",
    "# Probabilidad de necesitar al menos tres intentos\n",
    "prob_at_least_three_attempts = q**2 * p\n",
    "\n",
    "print(f\"La probabilidad de necesitar al menos tres intentos es: {prob_at_least_three_attempts:.2f} o {prob_at_least_three_attempts * 100:.2f}%\")\n"
   ]
  },
  {
   "cell_type": "code",
   "execution_count": 4,
   "metadata": {},
   "outputs": [],
   "source": [
    "# Una probabilidad del 14.70% sugiere que, aunque hay una buena tasa de éxito en el primer intento, \n",
    "# aún hay un riesgo considerable de que se requieran múltiples intentos para resolver las quejas."
   ]
  },
  {
   "cell_type": "markdown",
   "metadata": {},
   "source": [
    "**Challenge 3**"
   ]
  },
  {
   "cell_type": "markdown",
   "metadata": {},
   "source": [
    "#### Ironhack Website"
   ]
  },
  {
   "cell_type": "markdown",
   "metadata": {},
   "source": [
    "Consider a scenario related to Ironhack website traffic. Where:\n",
    "- our website takes on average 500 visits per hour.\n",
    "- the website's server is designed to handle up to 550 vists per hour.\n",
    "\n",
    "\n",
    "What is the probability of the website server being overwhelmed?"
   ]
  },
  {
   "cell_type": "code",
   "execution_count": 5,
   "metadata": {},
   "outputs": [
    {
     "name": "stdout",
     "output_type": "stream",
     "text": [
      "La probabilidad de que el servidor se vea abrumado es: 0.0129 o 1.29%\n"
     ]
    }
   ],
   "source": [
    "import scipy.stats as stats\n",
    "\n",
    "# Parameters\n",
    "lambda_visits = 500  # average visits per hour\n",
    "server_capacity = 550  # server capacity\n",
    "\n",
    "# Probability of server being overwhelmed\n",
    "prob_overwhelmed = 1 - stats.poisson.cdf(server_capacity, lambda_visits)\n",
    "\n",
    "print(f\"La probabilidad de que el servidor se vea abrumado es: {prob_overwhelmed:.4f} o {prob_overwhelmed * 100:.2f}%\")\n"
   ]
  },
  {
   "cell_type": "code",
   "execution_count": 6,
   "metadata": {},
   "outputs": [],
   "source": [
    "# La probabilidad de que el servidor se vea abrumado es del 1.29%, \n",
    "# lo que significa que hay una pequeña posibilidad de que se reciban más de 550 visitas en una hora.\n",
    "\n",
    "# Esto indica que, aunque el tráfico promedio es de 500 visitas por hora, es poco probable que el servidor exceda su capacidad, \n",
    "# lo que sugiere que el sistema es generalmente capaz de manejar la carga sin problemas significativos."
   ]
  },
  {
   "cell_type": "markdown",
   "metadata": {},
   "source": [
    "What is the probability of being overwhelmed at some point during a day? (consider 24hours)"
   ]
  },
  {
   "cell_type": "code",
   "execution_count": 7,
   "metadata": {},
   "outputs": [
    {
     "name": "stdout",
     "output_type": "stream",
     "text": [
      "La probabilidad de que el servidor se vea abrumado al menos una vez en un día es: 0.2677 o 26.77%\n"
     ]
    }
   ],
   "source": [
    "import scipy.stats as stats\n",
    "\n",
    "# Parameters\n",
    "lambda_hour = 500  # average visits per hour\n",
    "hours_in_day = 24\n",
    "server_capacity = 550  # server capacity\n",
    "\n",
    "# Calculate average visits per day\n",
    "lambda_daily = lambda_hour * hours_in_day\n",
    "\n",
    "# Probability of not being overwhelmed in one hour\n",
    "p_not_overwhelmed_one_hour = stats.poisson.cdf(server_capacity, lambda_hour)\n",
    "\n",
    "# Probability of not being overwhelmed in 24 hours\n",
    "p_not_overwhelmed_24_hours = p_not_overwhelmed_one_hour ** hours_in_day\n",
    "\n",
    "# Probability of being overwhelmed at least once in 24 hours\n",
    "p_overwhelmed_at_least_once = 1 - p_not_overwhelmed_24_hours\n",
    "\n",
    "print(f\"La probabilidad de que el servidor se vea abrumado al menos una vez en un día es: {p_overwhelmed_at_least_once:.4f} o {p_overwhelmed_at_least_once * 100:.2f}%\")\n"
   ]
  },
  {
   "cell_type": "code",
   "execution_count": 8,
   "metadata": {},
   "outputs": [],
   "source": [
    "# Un 26.77% indica que, aunque el servidor puede manejar la carga la mayor parte del tiempo, \n",
    "# existe un riesgo notable de que se vean sobrepasados en condiciones de tráfico intenso."
   ]
  },
  {
   "cell_type": "markdown",
   "metadata": {},
   "source": [
    "**Challenge 4**"
   ]
  },
  {
   "cell_type": "markdown",
   "metadata": {},
   "source": [
    "#### Ironhack Helpdesk"
   ]
  },
  {
   "cell_type": "markdown",
   "metadata": {},
   "source": [
    "Consider a scenario related to the time between arrivals of customers at a service desk.\n",
    "\n",
    "On average, a customers arrives every 10minutes.\n",
    "\n",
    "What is the probability that the next customer will arrive within the next 5 minutes?"
   ]
  },
  {
   "cell_type": "code",
   "execution_count": 9,
   "metadata": {},
   "outputs": [
    {
     "name": "stdout",
     "output_type": "stream",
     "text": [
      "La probabilidad de que el próximo cliente llegue en los próximos 5 minutos es: 0.3935 o 39.35%\n"
     ]
    }
   ],
   "source": [
    "import numpy as np\n",
    "\n",
    "# Parameters\n",
    "lambda_rate = 0.1  # customers per minute\n",
    "time_interval = 5  # minutes\n",
    "\n",
    "# Calculate the probability\n",
    "probability_within_5_minutes = 1 - np.exp(-lambda_rate * time_interval)\n",
    "\n",
    "print(f\"La probabilidad de que el próximo cliente llegue en los próximos 5 minutos es: {probability_within_5_minutes:.4f} o {probability_within_5_minutes * 100:.2f}%\")\n"
   ]
  },
  {
   "cell_type": "code",
   "execution_count": 10,
   "metadata": {},
   "outputs": [],
   "source": [
    "# Un 39.35% indica que hay una probabilidad considerable de que la llegada de un cliente ocurra en los primeros 5 minutos."
   ]
  },
  {
   "cell_type": "markdown",
   "metadata": {},
   "source": [
    "If there is no customer for 15minutes, employees can that a 5minutes break.\n",
    "\n",
    "What is the probability an employee taking a break?"
   ]
  },
  {
   "cell_type": "code",
   "execution_count": 11,
   "metadata": {},
   "outputs": [
    {
     "name": "stdout",
     "output_type": "stream",
     "text": [
      "La probabilidad de que un empleado tome un descanso es: 0.2231 o 22.31%\n"
     ]
    }
   ],
   "source": [
    "import numpy as np\n",
    "\n",
    "# Parameters\n",
    "lambda_rate = 0.1  # customers per minute\n",
    "time_interval = 15  # minutes\n",
    "\n",
    "# Calculate the probability of no arrivals in 15 minutes\n",
    "probability_no_customers = np.exp(-lambda_rate * time_interval)\n",
    "\n",
    "print(f\"La probabilidad de que un empleado tome un descanso es: {probability_no_customers:.4f} o {probability_no_customers * 100:.2f}%\")\n"
   ]
  },
  {
   "cell_type": "code",
   "execution_count": 12,
   "metadata": {},
   "outputs": [],
   "source": [
    "#  Un 22.31% sugiere que, aunque hay una posibilidad de descanso, \n",
    "# también hay una buena probabilidad de que llegue un cliente antes de que finalicen esos 15 minutos."
   ]
  },
  {
   "cell_type": "markdown",
   "metadata": {},
   "source": [
    "**Challenge 5**"
   ]
  },
  {
   "cell_type": "markdown",
   "metadata": {},
   "source": [
    "The weights of a certain species of birds follow a normal distribution with a mean weight of 150 grams and a standard deviation of 10 grams. \n",
    "\n",
    "- If we randomly select a bird, what is the probability that its weight is between 140 and 160 grams?"
   ]
  },
  {
   "cell_type": "code",
   "execution_count": 13,
   "metadata": {},
   "outputs": [
    {
     "name": "stdout",
     "output_type": "stream",
     "text": [
      "La probabilidad de que el peso de un pájaro esté entre 140 y 160 gramos es: 0.6827 o 68.27%\n"
     ]
    }
   ],
   "source": [
    "import scipy.stats as stats\n",
    "\n",
    "# Parameters\n",
    "mu = 150  # mean\n",
    "sigma = 10  # standard deviation\n",
    "\n",
    "# Calculate probabilities\n",
    "z_140 = (140 - mu) / sigma\n",
    "z_160 = (160 - mu) / sigma\n",
    "\n",
    "# Find probabilities\n",
    "prob_140 = stats.norm.cdf(z_140)  # P(Z < z_140)\n",
    "prob_160 = stats.norm.cdf(z_160)  # P(Z < z_160)\n",
    "\n",
    "# Probability between 140 and 160 grams\n",
    "probability_between_140_and_160 = prob_160 - prob_140\n",
    "\n",
    "print(f\"La probabilidad de que el peso de un pájaro esté entre 140 y 160 gramos es: {probability_between_140_and_160:.4f} o {probability_between_140_and_160 * 100:.2f}%\")\n"
   ]
  },
  {
   "cell_type": "code",
   "execution_count": 14,
   "metadata": {},
   "outputs": [],
   "source": [
    "# Este resultado indica que la mayoría de los pájaros de esta especie tienden a pesar alrededor de la media (150 gramos), \n",
    "# y una gran parte se encuentra dentro de un rango de ±10 gramos de la media."
   ]
  },
  {
   "cell_type": "markdown",
   "metadata": {},
   "source": [
    "**Challenge 6**"
   ]
  },
  {
   "cell_type": "markdown",
   "metadata": {},
   "source": [
    "If the lifetime (in hours) of a certain electronic component follows an exponential distribution with a mean lifetime of 50 hours, what is the probability that the component fails within the first 30 hours?"
   ]
  },
  {
   "cell_type": "code",
   "execution_count": 15,
   "metadata": {},
   "outputs": [
    {
     "name": "stdout",
     "output_type": "stream",
     "text": [
      "La probabilidad de que el componente falle en las primeras 30 horas es: 0.4512 o 45.12%\n"
     ]
    }
   ],
   "source": [
    "import numpy as np\n",
    "\n",
    "# Parameters\n",
    "mean_lifetime = 50  # hours\n",
    "lambda_rate = 1 / mean_lifetime  # rate parameter\n",
    "time_interval = 30  # hours\n",
    "\n",
    "# Calculate the probability of failure within 30 hours\n",
    "probability_failure_within_30 = 1 - np.exp(-lambda_rate * time_interval)\n",
    "\n",
    "print(f\"La probabilidad de que el componente falle en las primeras 30 horas es: {probability_failure_within_30:.4f} o {probability_failure_within_30 * 100:.2f}%\")\n"
   ]
  },
  {
   "cell_type": "code",
   "execution_count": 16,
   "metadata": {},
   "outputs": [],
   "source": [
    "# Una probabilidad del 45.12% indica que hay una posibilidad significativa de que el componente falle en un período de tiempo relativamente corto. \n",
    "# Esto puede ser crucial para la planificación de mantenimiento o para evaluar la fiabilidad del componente."
   ]
  }
 ],
 "metadata": {
  "kernelspec": {
   "display_name": "Python 3",
   "language": "python",
   "name": "python3"
  },
  "language_info": {
   "codemirror_mode": {
    "name": "ipython",
    "version": 3
   },
   "file_extension": ".py",
   "mimetype": "text/x-python",
   "name": "python",
   "nbconvert_exporter": "python",
   "pygments_lexer": "ipython3",
   "version": "3.12.4"
  }
 },
 "nbformat": 4,
 "nbformat_minor": 2
}
